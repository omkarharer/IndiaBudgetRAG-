{
 "cells": [
  {
   "cell_type": "code",
   "execution_count": 1,
   "id": "b160ed31-9af0-486e-936d-f411257faed4",
   "metadata": {},
   "outputs": [],
   "source": [
    "from langchain_groq import ChatGroq\n",
    "from langchain.embeddings import HuggingFaceBgeEmbeddings\n",
    "from langchain.document_loaders import PyPDFLoader, DirectoryLoader\n",
    "from langchain.vectorstores import Chroma\n",
    "from langchain.chains import RetrievalQA\n",
    "from langchain.prompts import PromptTemplate\n",
    "from langchain.text_splitter import RecursiveCharacterTextSplitter\n",
    "import os"
   ]
  },
  {
   "cell_type": "code",
   "execution_count": null,
   "id": "ad0334ed-d517-47b8-ae40-2bcb2696ee93",
   "metadata": {},
   "outputs": [
    {
     "name": "stdout",
     "output_type": "stream",
     "text": [
      "Initializing Chatbot.........\n",
      "Creating a new vector database...\n"
     ]
    },
    {
     "name": "stderr",
     "output_type": "stream",
     "text": [
      "C:\\Users\\Omkar\\AppData\\Local\\Temp\\ipykernel_14308\\3988637906.py:30: LangChainDeprecationWarning: The class `HuggingFaceBgeEmbeddings` was deprecated in LangChain 0.2.2 and will be removed in 1.0. An updated version of the class exists in the :class:`~langchain-huggingface package and should be used instead. To use it run `pip install -U :class:`~langchain-huggingface` and import as `from :class:`~langchain_huggingface import HuggingFaceEmbeddings``.\n",
      "  embeddings = HuggingFaceBgeEmbeddings(model_name='sentence-transformers/all-MiniLM-L6-v2')\n"
     ]
    },
    {
     "name": "stdout",
     "output_type": "stream",
     "text": [
      "WARNING:tensorflow:From C:\\Users\\Omkar\\anaconda3\\Lib\\site-packages\\tf_keras\\src\\losses.py:2976: The name tf.losses.sparse_softmax_cross_entropy is deprecated. Please use tf.compat.v1.losses.sparse_softmax_cross_entropy instead.\n",
      "\n"
     ]
    },
    {
     "name": "stderr",
     "output_type": "stream",
     "text": [
      "C:\\Users\\Omkar\\AppData\\Local\\Temp\\ipykernel_14308\\3988637906.py:32: LangChainDeprecationWarning: Since Chroma 0.4.x the manual persistence method is no longer supported as docs are automatically persisted.\n",
      "  vector_db.persist()\n"
     ]
    },
    {
     "name": "stdout",
     "output_type": "stream",
     "text": [
      "ChromaDB created and data saved.\n"
     ]
    },
    {
     "name": "stdin",
     "output_type": "stream",
     "text": [
      "\n",
      "Human:  hello \n"
     ]
    },
    {
     "name": "stderr",
     "output_type": "stream",
     "text": [
      "C:\\Users\\Omkar\\AppData\\Local\\Temp\\ipykernel_14308\\3988637906.py:106: LangChainDeprecationWarning: The method `Chain.run` was deprecated in langchain 0.1.0 and will be removed in 1.0. Use :meth:`~invoke` instead.\n",
      "  response = qa_chain.run(query)\n"
     ]
    },
    {
     "name": "stdout",
     "output_type": "stream",
     "text": [
      "Chatbot: <think>\n",
      "Okay, so I'm trying to understand the Indian Budget based on the information provided. Let me break it down step by step.\n",
      "\n",
      "First, the budget seems to have a theme that's built around four pillars: Exports, Reforms (referred to as \"the fuel\"), Inclusivity (\"our guiding spirit\"), and the destination being a Developed India or \"Viksit Bharat.\" The vision is to achieve greater prosperity and a stronger global position under Prime Minister Modi's leadership.\n",
      "\n",
      "The document mentions that as we're in the first quarter of the 21st century, there are geopolitical issues that might slow down global economic growth in the medium term. However, the aspiration for a developed India and the work done in the government's first two terms are guiding them to move forward resolutely.\n",
      "\n",
      "Looking at the specific points, there are some amendments to the Customs Act, 1962. Section 127C is getting a new sub-section (12) after sub-section (11), making the sub-sections of 127C applicable to the Interim Board. Similarly, a new sub-section (3) is being added after sub-section (2) in section 127D, clarifying that the Settlement Commission's powers will be exercised by the Interim Board, and the provisions will apply mutatis mutandis to them. I'm not entirely sure what \"mutatis mutandis\" means, but I think it refers to applying provisions with necessary adjustments.\n",
      "\n",
      "The government emphasizes listening to the people and balancing nation-building efforts. The tax proposals are guided by this spirit, focusing on personal income tax reforms, especially for the middle class. There's a mention of the middle class being the backbone, so the reforms likely aim to reduce their tax burden or simplify the tax system for them.\n",
      "\n",
      "I'm a bit confused about the specific impact of the Customs Act amendments. How do these changes affect trade or exports? Maybe the Interim Board now has more powers related to settlements under these sections, which could streamline customs procedures, making exports more efficient. That would tie into the export pillar of the budget theme.\n",
      "\n",
      "The mention of geopolitical headwinds suggests that India is preparing for a potentially slower global economy by focusing on internal strengths like reforms and inclusivity. The reforms are seen as the fuel driving progress toward a developed India.\n",
      "\n",
      "I'm also thinking about how the personal income tax reforms will be structured. Will there be new tax brackets, exemptions, or simplified filing processes? The focus on the middle class indicates that the government wants to ease their financial burden, which could boost consumer spending and economic growth.\n",
      "\n",
      "Overall, the budget seems to be strategically positioning India for long-term growth despite global challenges by focusing on exports, continuous reforms, inclusivity, and tax policies that support the middle class. I need to connect these dots to see how each part contributes to the overall vision of a developed India by 2047, as that's the implicit goal here.\n",
      "</think>\n",
      "\n",
      "The Indian Budget is structured around four key pillars: Exports, Reforms, Inclusivity, and the vision of a Developed India (\"Viksit Bharat\"). Here's a breakdown of the strategy and its implications:\n",
      "\n",
      "1. **Strategic Pillars**:\n",
      "   - **Exports**: The budget emphasizes boosting exports to enhance India's global economic position.\n",
      "   - **Reforms**: Reforms are seen as the driving force for progress, streamlining processes and improving efficiency.\n",
      "   - **Inclusivity**: The focus is on ensuring that all segments of society benefit from growth, particularly the middle class.\n",
      "   - **Vision for Viksit Bharat**: The goal is to achieve a developed nation status, guided by the work done in previous terms and the leadership of Prime Minister Modi.\n",
      "\n",
      "2. **Global Context and Internal Strategy**:\n",
      "   - The budget acknowledges geopolitical challenges that may slow global growth but leverages internal reforms and inclusivity to drive resilience.\n",
      "   - The government aims to balance listening to public needs with nation-building efforts, reflecting a responsive governance approach.\n",
      "\n",
      "3. **Customs Act Amendments**:\n",
      "   - The insertion of new sub-sections in the Customs Act, 1962, grants the Interim Board powers related to settlements, likely streamlining customs procedures and enhancing export efficiency.\n",
      "\n",
      "4. **Tax Reforms**:\n",
      "   - Personal Income Tax reforms target the middle class, aiming to reduce their tax burden or simplify processes, thereby stimulating consumer spending and economic growth.\n",
      "\n",
      "5. **Overall Vision**:\n",
      "   - The budget positions India for long-term growth by focusing on strategic areas, aiming to achieve the vision of a developed India by 2047.\n",
      "\n",
      "In summary, the budget is a comprehensive strategy to navigate global challenges by leveraging internal strengths, with a focus on exports, reforms, inclusivity, and tax policies that support the middle class, all aligned with the vision of a prosperous and developed India.\n"
     ]
    },
    {
     "name": "stdin",
     "output_type": "stream",
     "text": [
      "\n",
      "Human:  summary of the budget\n"
     ]
    },
    {
     "name": "stdout",
     "output_type": "stream",
     "text": [
      "Chatbot: <think>\n",
      "Okay, so I need to summarize the budget for 2025-26 based on the information provided. Let me go through the details step by step.\n",
      "\n",
      "First, the total receipts other than borrowings are estimated at ₹34.96 lakh crore. That's a significant figure. Then, the total expenditure is ₹50.65 lakh crore. So, the government is spending more than it's receiving, which makes sense because there's a fiscal deficit mentioned.\n",
      "\n",
      "The net tax receipts are ₹28.37 lakh crore. That's a key part of the receipts. Now, the fiscal deficit is 4.4% of GDP. I remember that the previous year's revised estimate was 4.8%, so this is a slight improvement, moving towards the fiscal deficit target.\n",
      "\n",
      "To finance this deficit, the government plans to borrow ₹11.54 lakh crore through net market borrowings from dated securities. The rest of the financing will come from other sources, but the exact details aren't provided here.\n",
      "\n",
      "Looking at the objectives of the budget, it's focused on accelerating growth, inclusive development, encouraging private investments, uplifting household sentiments, and enhancing the spending power of the middle class. These are all positive goals that should support economic stability and growth.\n",
      "\n",
      "The speech also mentions some cess and surcharges, like the Agriculture Infrastructure and Development Cess (AIDC) and the Social Welfare Surcharge (SWS), but it's noted that these are minor changes. The revised estimates for 2024-25 show that the government spent more than initially planned, with a fiscal deficit of 4.8%, which is higher than the budget estimate.\n",
      "\n",
      "Putting this all together, the summary should highlight the key figures: receipts, expenditures, tax receipts, fiscal deficit, borrowing plans, and the overall objectives. It should also note the slight improvement in the fiscal deficit from the previous year and the focus areas of the budget.\n",
      "\n",
      "I need to make sure the summary is clear and concise, covering all these points without getting too bogged down in the numbers. Maybe start with the main estimates, then move to the fiscal deficit and borrowing, followed by the budget's goals, and end with the revised estimates from the previous year.\n",
      "\n",
      "I should also ensure that the summary flows well and is easy to understand, avoiding too much jargon. Maybe use bullet points or sections to break it down, but since the user didn't specify, a paragraph form should suffice.\n",
      "\n",
      "Wait, the user provided a sample summary which is quite detailed. I should make sure mine is similar in structure but in my own words. I'll start by stating the main figures, then the fiscal deficit, how it's financed, the objectives, and then the revised estimates.\n",
      "\n",
      "I think that's a solid approach. Now, I'll draft the summary accordingly, making sure to include all the key points without missing any important details.\n",
      "</think>\n",
      "\n",
      "The Budget for 2025-26 presents a comprehensive financial plan with a focus on economic growth and social development. The total receipts, excluding borrowings, are estimated at ₹34.96 lakh crore, while the total expenditure is ₹50.65 lakh crore, indicating a significant investment in public spending. Net tax receipts amount to ₹28.37 lakh crore, a crucial component of the government's revenue.\n",
      "\n",
      "The fiscal deficit is projected at 4.4% of GDP, showing a slight improvement from the previous year's 4.8%. To address this deficit, the government plans to borrow ₹11.54 lakh crore through market borrowings, with additional financing from other sources.\n",
      "\n",
      "The budget's objectives include accelerating economic growth, promoting inclusive development, stimulating private sector investments, and enhancing the spending power of the middle class. These goals aim to foster economic stability and prosperity.\n",
      "\n",
      "In the previous fiscal year, the revised estimates revealed a fiscal deficit of 4.8%, with total expenditure exceeding initial projections. This underscores the government's commitment to adjusting its financial plans to meet economic challenges.\n",
      "\n",
      "Overall, the budget for 2025-26 balances fiscal prudence with strategic investments, aiming to drive sustainable growth and improve the quality of life for citizens.\n"
     ]
    }
   ],
   "source": [
    "from langchain_groq import ChatGroq\n",
    "import os\n",
    "import hashlib\n",
    "from langchain.document_loaders import DirectoryLoader, PyPDFLoader\n",
    "from langchain.text_splitter import RecursiveCharacterTextSplitter\n",
    "from langchain.embeddings import HuggingFaceBgeEmbeddings\n",
    "from langchain.vectorstores import Chroma\n",
    "from langchain.prompts import PromptTemplate\n",
    "from langchain.chains import RetrievalQA\n",
    "# from langchain.chat_models import ChatGroq\n",
    "\n",
    "def initialize_llm():\n",
    "    llm = ChatGroq(\n",
    "        temperature=0,\n",
    "        groq_api_key=\"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\",\n",
    "        model_name=\"deepseek-r1-distill-llama-70b\"  #llama-3.3-70b-versatile\n",
    "    )\n",
    "    return llm\n",
    "\n",
    "def hash_file_content(filepath):\n",
    "    \"\"\"Generate a hash for the content of a file.\"\"\"\n",
    "    with open(filepath, \"rb\") as file:\n",
    "        return hashlib.md5(file.read()).hexdigest()\n",
    "\n",
    "def create_vector_db():\n",
    "    loader = DirectoryLoader(\"data/\", glob=\"*.pdf\", loader_cls=PyPDFLoader)\n",
    "    documents = loader.load()\n",
    "    text_splitter = RecursiveCharacterTextSplitter(chunk_size=500, chunk_overlap=50)\n",
    "    text = text_splitter.split_documents(documents)\n",
    "    embeddings = HuggingFaceBgeEmbeddings(model_name='sentence-transformers/all-MiniLM-L6-v2')\n",
    "    vector_db = Chroma.from_documents(text, embeddings, persist_directory='./chroma_db')\n",
    "    vector_db.persist()\n",
    "\n",
    "    print(\"ChromaDB created and data saved.\")\n",
    "    return vector_db\n",
    "\n",
    "def update_vector_db():\n",
    "    \"\"\"Only add new documents to the vector database.\"\"\"\n",
    "    # Initialize database and retriever\n",
    "    embeddings = HuggingFaceBgeEmbeddings(model_name='sentence-transformers/all-MiniLM-L6-v2')\n",
    "    vector_db = Chroma(persist_directory='./chroma_db', embedding_function=embeddings)\n",
    "    \n",
    "    # Load existing metadata\n",
    "    existing_metadata = {doc.metadata.get(\"file_hash\", \"\") for doc in vector_db.similarity_search(\"\", k=vector_db._collection.count())}\n",
    "\n",
    "    # Load new documents\n",
    "    loader = DirectoryLoader(\"data/\", glob=\"*.pdf\", loader_cls=PyPDFLoader)\n",
    "    documents = loader.load()\n",
    "    \n",
    "    # Filter out already processed files\n",
    "    new_docs = []\n",
    "    for doc in documents:\n",
    "        file_hash = hash_file_content(doc.metadata[\"source\"])\n",
    "        if file_hash not in existing_metadata:\n",
    "            doc.metadata[\"file_hash\"] = file_hash  # Add hash to metadata\n",
    "            new_docs.append(doc)\n",
    "    \n",
    "    # Add only new documents to the vector DB\n",
    "    if new_docs:\n",
    "        text_splitter = RecursiveCharacterTextSplitter(chunk_size=500, chunk_overlap=50)\n",
    "        text = text_splitter.split_documents(new_docs)\n",
    "        vector_db.add_documents(text)\n",
    "        vector_db.persist()\n",
    "        print(f\"Added {len(new_docs)} new documents to the vector database.\")\n",
    "    else:\n",
    "        print(\"No new documents to add.\")\n",
    "    \n",
    "    return vector_db\n",
    "\n",
    "def setup_qa_chain(vector_db, llm):\n",
    "    retriever = vector_db.as_retriever()\n",
    "    prompt_templates = \"\"\"You are an expert financial analyst specializing in the Indian Budget. Provide clear, insightful, and data-driven responses to the following question:  \n",
    "    {context}  \n",
    "    User: {question}  \n",
    "    BudgetBot:\"\"\"\n",
    "\n",
    "    PROMPT = PromptTemplate(template=prompt_templates, input_variables=['context', 'question'])\n",
    "    \n",
    "    qa_chain = RetrievalQA.from_chain_type(\n",
    "        llm=llm,\n",
    "        chain_type=\"stuff\",\n",
    "        retriever=retriever,\n",
    "        chain_type_kwargs={\"prompt\": PROMPT}\n",
    "    )\n",
    "    return qa_chain\n",
    "\n",
    "def main():\n",
    "    print(\"Initializing Chatbot.........\")\n",
    "    llm = initialize_llm()\n",
    "    db_path = \"./chroma_db\"\n",
    "\n",
    "    if not os.path.exists(db_path):\n",
    "        print(\"Creating a new vector database...\")\n",
    "        vector_db = create_vector_db()\n",
    "    else:\n",
    "        print(\"Updating the vector database with new documents...\")\n",
    "        vector_db = update_vector_db()\n",
    "    \n",
    "    qa_chain = setup_qa_chain(vector_db, llm)\n",
    "\n",
    "    while True:\n",
    "        query = input(\"\\nHuman: \")\n",
    "        if query.lower() == \"exit\":\n",
    "            print(\"Chatbot: Take care of yourself, goodbye!\")\n",
    "            break\n",
    "        response = qa_chain.run(query)\n",
    "        print(f\"Chatbot: {response}\")\n",
    "\n",
    "if __name__ == \"__main__\":\n",
    "    main()\n"
   ]
  }
 ],
 "metadata": {
  "kernelspec": {
   "display_name": "Python 3 (ipykernel)",
   "language": "python",
   "name": "python3"
  },
  "language_info": {
   "codemirror_mode": {
    "name": "ipython",
    "version": 3
   },
   "file_extension": ".py",
   "mimetype": "text/x-python",
   "name": "python",
   "nbconvert_exporter": "python",
   "pygments_lexer": "ipython3",
   "version": "3.12.3"
  }
 },
 "nbformat": 4,
 "nbformat_minor": 5
}
